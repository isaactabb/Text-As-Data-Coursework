{
  "nbformat": 4,
  "nbformat_minor": 0,
  "metadata": {
    "colab": {
      "provenance": []
    },
    "kernelspec": {
      "name": "python3",
      "display_name": "Python 3"
    },
    "language_info": {
      "name": "python"
    }
  },
  "cells": [
    {
      "cell_type": "markdown",
      "source": [
        "# Q4 Parameter Tuning\n",
        "### Isaac Tabb"
      ],
      "metadata": {
        "id": "RDdbBZvP47px"
      }
    },
    {
      "cell_type": "markdown",
      "source": [
        "Step 0: Read in the sets."
      ],
      "metadata": {
        "id": "jgrQNvkY61bI"
      }
    },
    {
      "cell_type": "code",
      "source": [
        "import pandas as pd\n",
        "from google.colab import files\n",
        "uploaded = files.upload()\n",
        "\n",
        "import io \n",
        "train_df = pd.read_csv(io.BytesIO(uploaded['training_set.csv']))\n",
        "valid_df = pd.read_csv(io.BytesIO(uploaded['validation_set.csv']))"
      ],
      "metadata": {
        "colab": {
          "base_uri": "https://localhost:8080/",
          "height": 109
        },
        "id": "e2Tiq1k562--",
        "outputId": "1ab80397-5eff-4b07-cd3a-72894f537dcc"
      },
      "execution_count": null,
      "outputs": [
        {
          "output_type": "display_data",
          "data": {
            "text/plain": [
              "<IPython.core.display.HTML object>"
            ],
            "text/html": [
              "\n",
              "     <input type=\"file\" id=\"files-c59dc116-00a2-4342-b99c-f40cd2b20063\" name=\"files[]\" multiple disabled\n",
              "        style=\"border:none\" />\n",
              "     <output id=\"result-c59dc116-00a2-4342-b99c-f40cd2b20063\">\n",
              "      Upload widget is only available when the cell has been executed in the\n",
              "      current browser session. Please rerun this cell to enable.\n",
              "      </output>\n",
              "      <script>// Copyright 2017 Google LLC\n",
              "//\n",
              "// Licensed under the Apache License, Version 2.0 (the \"License\");\n",
              "// you may not use this file except in compliance with the License.\n",
              "// You may obtain a copy of the License at\n",
              "//\n",
              "//      http://www.apache.org/licenses/LICENSE-2.0\n",
              "//\n",
              "// Unless required by applicable law or agreed to in writing, software\n",
              "// distributed under the License is distributed on an \"AS IS\" BASIS,\n",
              "// WITHOUT WARRANTIES OR CONDITIONS OF ANY KIND, either express or implied.\n",
              "// See the License for the specific language governing permissions and\n",
              "// limitations under the License.\n",
              "\n",
              "/**\n",
              " * @fileoverview Helpers for google.colab Python module.\n",
              " */\n",
              "(function(scope) {\n",
              "function span(text, styleAttributes = {}) {\n",
              "  const element = document.createElement('span');\n",
              "  element.textContent = text;\n",
              "  for (const key of Object.keys(styleAttributes)) {\n",
              "    element.style[key] = styleAttributes[key];\n",
              "  }\n",
              "  return element;\n",
              "}\n",
              "\n",
              "// Max number of bytes which will be uploaded at a time.\n",
              "const MAX_PAYLOAD_SIZE = 100 * 1024;\n",
              "\n",
              "function _uploadFiles(inputId, outputId) {\n",
              "  const steps = uploadFilesStep(inputId, outputId);\n",
              "  const outputElement = document.getElementById(outputId);\n",
              "  // Cache steps on the outputElement to make it available for the next call\n",
              "  // to uploadFilesContinue from Python.\n",
              "  outputElement.steps = steps;\n",
              "\n",
              "  return _uploadFilesContinue(outputId);\n",
              "}\n",
              "\n",
              "// This is roughly an async generator (not supported in the browser yet),\n",
              "// where there are multiple asynchronous steps and the Python side is going\n",
              "// to poll for completion of each step.\n",
              "// This uses a Promise to block the python side on completion of each step,\n",
              "// then passes the result of the previous step as the input to the next step.\n",
              "function _uploadFilesContinue(outputId) {\n",
              "  const outputElement = document.getElementById(outputId);\n",
              "  const steps = outputElement.steps;\n",
              "\n",
              "  const next = steps.next(outputElement.lastPromiseValue);\n",
              "  return Promise.resolve(next.value.promise).then((value) => {\n",
              "    // Cache the last promise value to make it available to the next\n",
              "    // step of the generator.\n",
              "    outputElement.lastPromiseValue = value;\n",
              "    return next.value.response;\n",
              "  });\n",
              "}\n",
              "\n",
              "/**\n",
              " * Generator function which is called between each async step of the upload\n",
              " * process.\n",
              " * @param {string} inputId Element ID of the input file picker element.\n",
              " * @param {string} outputId Element ID of the output display.\n",
              " * @return {!Iterable<!Object>} Iterable of next steps.\n",
              " */\n",
              "function* uploadFilesStep(inputId, outputId) {\n",
              "  const inputElement = document.getElementById(inputId);\n",
              "  inputElement.disabled = false;\n",
              "\n",
              "  const outputElement = document.getElementById(outputId);\n",
              "  outputElement.innerHTML = '';\n",
              "\n",
              "  const pickedPromise = new Promise((resolve) => {\n",
              "    inputElement.addEventListener('change', (e) => {\n",
              "      resolve(e.target.files);\n",
              "    });\n",
              "  });\n",
              "\n",
              "  const cancel = document.createElement('button');\n",
              "  inputElement.parentElement.appendChild(cancel);\n",
              "  cancel.textContent = 'Cancel upload';\n",
              "  const cancelPromise = new Promise((resolve) => {\n",
              "    cancel.onclick = () => {\n",
              "      resolve(null);\n",
              "    };\n",
              "  });\n",
              "\n",
              "  // Wait for the user to pick the files.\n",
              "  const files = yield {\n",
              "    promise: Promise.race([pickedPromise, cancelPromise]),\n",
              "    response: {\n",
              "      action: 'starting',\n",
              "    }\n",
              "  };\n",
              "\n",
              "  cancel.remove();\n",
              "\n",
              "  // Disable the input element since further picks are not allowed.\n",
              "  inputElement.disabled = true;\n",
              "\n",
              "  if (!files) {\n",
              "    return {\n",
              "      response: {\n",
              "        action: 'complete',\n",
              "      }\n",
              "    };\n",
              "  }\n",
              "\n",
              "  for (const file of files) {\n",
              "    const li = document.createElement('li');\n",
              "    li.append(span(file.name, {fontWeight: 'bold'}));\n",
              "    li.append(span(\n",
              "        `(${file.type || 'n/a'}) - ${file.size} bytes, ` +\n",
              "        `last modified: ${\n",
              "            file.lastModifiedDate ? file.lastModifiedDate.toLocaleDateString() :\n",
              "                                    'n/a'} - `));\n",
              "    const percent = span('0% done');\n",
              "    li.appendChild(percent);\n",
              "\n",
              "    outputElement.appendChild(li);\n",
              "\n",
              "    const fileDataPromise = new Promise((resolve) => {\n",
              "      const reader = new FileReader();\n",
              "      reader.onload = (e) => {\n",
              "        resolve(e.target.result);\n",
              "      };\n",
              "      reader.readAsArrayBuffer(file);\n",
              "    });\n",
              "    // Wait for the data to be ready.\n",
              "    let fileData = yield {\n",
              "      promise: fileDataPromise,\n",
              "      response: {\n",
              "        action: 'continue',\n",
              "      }\n",
              "    };\n",
              "\n",
              "    // Use a chunked sending to avoid message size limits. See b/62115660.\n",
              "    let position = 0;\n",
              "    do {\n",
              "      const length = Math.min(fileData.byteLength - position, MAX_PAYLOAD_SIZE);\n",
              "      const chunk = new Uint8Array(fileData, position, length);\n",
              "      position += length;\n",
              "\n",
              "      const base64 = btoa(String.fromCharCode.apply(null, chunk));\n",
              "      yield {\n",
              "        response: {\n",
              "          action: 'append',\n",
              "          file: file.name,\n",
              "          data: base64,\n",
              "        },\n",
              "      };\n",
              "\n",
              "      let percentDone = fileData.byteLength === 0 ?\n",
              "          100 :\n",
              "          Math.round((position / fileData.byteLength) * 100);\n",
              "      percent.textContent = `${percentDone}% done`;\n",
              "\n",
              "    } while (position < fileData.byteLength);\n",
              "  }\n",
              "\n",
              "  // All done.\n",
              "  yield {\n",
              "    response: {\n",
              "      action: 'complete',\n",
              "    }\n",
              "  };\n",
              "}\n",
              "\n",
              "scope.google = scope.google || {};\n",
              "scope.google.colab = scope.google.colab || {};\n",
              "scope.google.colab._files = {\n",
              "  _uploadFiles,\n",
              "  _uploadFilesContinue,\n",
              "};\n",
              "})(self);\n",
              "</script> "
            ]
          },
          "metadata": {}
        },
        {
          "output_type": "stream",
          "name": "stdout",
          "text": [
            "Saving training_set.csv to training_set.csv\n",
            "Saving validation_set.csv to validation_set.csv\n"
          ]
        }
      ]
    },
    {
      "cell_type": "markdown",
      "source": [
        "Create the labels set and texts set for both training and validation."
      ],
      "metadata": {
        "id": "uaNt_vaV6_qd"
      }
    },
    {
      "cell_type": "code",
      "source": [
        "# turn the dataframes into dictionaries\n",
        "train_dct = train_df.to_dict('records')\n",
        "valid_dct = valid_df.to_dict('records')\n",
        "\n",
        "# create two separate lists, the tweets and the labels for both training and validation\n",
        "train_tweets, train_labels = [], []\n",
        "for tweet in train_dct:\n",
        "  train_tweets.append(tweet['text'])\n",
        "  train_labels.append(tweet['team'])\n",
        "\n",
        "valid_tweets, valid_labels = [], []\n",
        "for tweet in valid_dct:\n",
        "  valid_tweets.append(tweet['text'])\n",
        "  valid_labels.append(tweet['team'])"
      ],
      "metadata": {
        "id": "Xy_aS-WC7Gab"
      },
      "execution_count": null,
      "outputs": []
    },
    {
      "cell_type": "markdown",
      "source": [
        "First, we will select the best Regularization C Parameter."
      ],
      "metadata": {
        "id": "sJ1ACSh25cZo"
      }
    },
    {
      "cell_type": "code",
      "execution_count": null,
      "metadata": {
        "id": "0TWaMPF043eE",
        "colab": {
          "base_uri": "https://localhost:8080/"
        },
        "outputId": "296e6121-40d3-41cf-ed86-beef61553235"
      },
      "outputs": [
        {
          "output_type": "stream",
          "name": "stdout",
          "text": [
            "C=10^-3\n",
            "f1=0.210\n",
            "C=10^-2\n",
            "f1=0.210\n",
            "C=10^-1\n",
            "f1=0.250\n",
            "C=10^0\n",
            "f1=0.473\n",
            "C=10^1\n",
            "f1=0.515\n",
            "C=10^2\n",
            "f1=0.500\n",
            "C=10^3\n",
            "f1=0.484\n",
            "C=10^4\n",
            "f1=0.475\n",
            "C=10^5\n",
            "f1=0.473\n"
          ]
        }
      ],
      "source": [
        "from sklearn.feature_extraction.text import TfidfVectorizer\n",
        "from sklearn.linear_model import LogisticRegression\n",
        "from sklearn.metrics import accuracy_score, precision_score, recall_score, f1_score\n",
        "import numpy as np\n",
        "\n",
        "# create a numpy array -> list from -3 to 5 incrementing by 1\n",
        "c_param_exponent = np.arange(-3,6,1).tolist()\n",
        "\n",
        "# iterate through each setting of the 10^x expondent\n",
        "for val in c_param_exponent:\n",
        "  # define out vectorizer\n",
        "  vectorizer_lg_tfidf = TfidfVectorizer()\n",
        "  # fit to training set\n",
        "  X_lg_tfidf = vectorizer_lg_tfidf.fit(train_tweets)\n",
        "  # transform both training and validation\n",
        "  vectorized_train_lg_tfidf = vectorizer_lg_tfidf.transform(train_tweets)\n",
        "  vectorized_valid_lg_tfidf = vectorizer_lg_tfidf.transform(valid_tweets)\n",
        "  # create logistic regression classifier with C = 10^val\n",
        "  clf = LogisticRegression(C=(10**val)).fit(vectorized_train_lg_tfidf, train_labels)\n",
        "  labels_predicted = clf.predict(vectorized_valid_lg_tfidf)\n",
        "\n",
        "  # output each f1 score\n",
        "  f1 = f1_score(valid_labels, labels_predicted, average='macro')\n",
        "  print(\"C=10^\"+str(val))\n",
        "  print(f\"{f1=:.3f}\")"
      ]
    },
    {
      "cell_type": "markdown",
      "source": [
        "The top C values that yield the highest F1-scores are 10^1 (.515) and 10^2 (.500). We will run a parameter grid later on with these C values."
      ],
      "metadata": {
        "id": "l4clPjDG8yuy"
      }
    },
    {
      "cell_type": "markdown",
      "source": [
        "Now let's look at sublinear_tf."
      ],
      "metadata": {
        "id": "9puzIPsu9HiD"
      }
    },
    {
      "cell_type": "code",
      "source": [
        "# two possible values are true or false\n",
        "stf = [True, False]\n",
        "\n",
        "# iterate through the two values\n",
        "for val in stf:\n",
        "  # define out vectorizer, with sublinear_tf = the value\n",
        "  vectorizer_lg_tfidf = TfidfVectorizer(sublinear_tf=val)\n",
        "  # fit to train\n",
        "  X_lg_tfidf = vectorizer_lg_tfidf.fit(train_tweets)\n",
        "  # transform both\n",
        "  vectorized_train_lg_tfidf = vectorizer_lg_tfidf.transform(train_tweets)\n",
        "  vectorized_valid_lg_tfidf = vectorizer_lg_tfidf.transform(valid_tweets)\n",
        "  # define our logistic regression classifier\n",
        "  clf = LogisticRegression().fit(vectorized_train_lg_tfidf, train_labels)\n",
        "  labels_predicted = clf.predict(vectorized_valid_lg_tfidf)\n",
        "\n",
        "  # output each f1 score\n",
        "  f1 = f1_score(valid_labels, labels_predicted, average='macro')\n",
        "  print(\"sublinear_tf=\"+str(val))\n",
        "  print(f\"{f1=:.3f}\")"
      ],
      "metadata": {
        "id": "Ic6Zh9469MgG",
        "colab": {
          "base_uri": "https://localhost:8080/"
        },
        "outputId": "9d7e040c-72d7-4239-fdce-01bbbee92def"
      },
      "execution_count": null,
      "outputs": [
        {
          "output_type": "stream",
          "name": "stdout",
          "text": [
            "sublinear_tf=True\n",
            "f1=0.473\n",
            "sublinear_tf=False\n",
            "f1=0.473\n"
          ]
        }
      ]
    },
    {
      "cell_type": "markdown",
      "source": [
        "True and False for sublinear_tf yield the same value. When we run our parameter grid, we will evaluate both."
      ],
      "metadata": {
        "id": "zTzhsDzk-Dq2"
      }
    },
    {
      "cell_type": "markdown",
      "source": [
        "We will now look at max_features."
      ],
      "metadata": {
        "id": "u9LtVoiU9d2d"
      }
    },
    {
      "cell_type": "markdown",
      "source": [
        "Let's look at how many features we have in our dataset."
      ],
      "metadata": {
        "id": "N6hfDzdA-yvG"
      }
    },
    {
      "cell_type": "code",
      "source": [
        "# define a vectorizer\n",
        "vectorizer_lg_tfidf = TfidfVectorizer()\n",
        "# fit to train\n",
        "X_lg_tfidf = vectorizer_lg_tfidf.fit(train_tweets)\n",
        "# transform both\n",
        "vectorized_train_lg_tfidf = vectorizer_lg_tfidf.transform(train_tweets)\n",
        "vectorized_valid_lg_tfidf = vectorizer_lg_tfidf.transform(valid_tweets)\n",
        "# look at how many features are in our dataset\n",
        "vectorized_train_lg_tfidf.shape[1]"
      ],
      "metadata": {
        "colab": {
          "base_uri": "https://localhost:8080/"
        },
        "id": "qIzIbzxV-1Ys",
        "outputId": "a7b8cd8d-3917-4604-d57b-93e9edbe61f2"
      },
      "execution_count": null,
      "outputs": [
        {
          "output_type": "execute_result",
          "data": {
            "text/plain": [
              "10395"
            ]
          },
          "metadata": {},
          "execution_count": 6
        }
      ]
    },
    {
      "cell_type": "markdown",
      "source": [
        "We have 10395 features. We will run our max features from 315 to 10395 in groups of 315, this will give us an even 33 options."
      ],
      "metadata": {
        "id": "pM4Lr49E_Dld"
      }
    },
    {
      "cell_type": "code",
      "source": [
        "# create a max_features list from 315 to 10395 in groups of 315 (for an even 33 option split)\n",
        "max_features = np.arange(315, 10396, 315).tolist()\n",
        "\n",
        "# iterate through max_features options\n",
        "for val in max_features:\n",
        "  # define a vectorizer, with max features set to current value\n",
        "  vectorizer_lg_tfidf = TfidfVectorizer(max_features=val)\n",
        "  # fit to train\n",
        "  X_lg_tfidf = vectorizer_lg_tfidf.fit(train_tweets)\n",
        "  # transform both\n",
        "  vectorized_train_lg_tfidf = vectorizer_lg_tfidf.transform(train_tweets)\n",
        "  vectorized_valid_lg_tfidf = vectorizer_lg_tfidf.transform(valid_tweets)\n",
        "  # define out classifer\n",
        "  clf = LogisticRegression().fit(vectorized_train_lg_tfidf, train_labels)\n",
        "  labels_predicted = clf.predict(vectorized_valid_lg_tfidf)\n",
        "\n",
        "  # output each f1 score\n",
        "  f1 = f1_score(valid_labels, labels_predicted, average='macro')\n",
        "  print(\"max_features=\"+str(val))\n",
        "  print(f\"{f1=:.3f}\")"
      ],
      "metadata": {
        "id": "Q2pRBbg49iMm",
        "colab": {
          "base_uri": "https://localhost:8080/"
        },
        "outputId": "2e91ba75-7cc3-440a-911d-5f476c7f62a2"
      },
      "execution_count": null,
      "outputs": [
        {
          "output_type": "stream",
          "name": "stdout",
          "text": [
            "max_features=315\n",
            "f1=0.477\n",
            "max_features=630\n",
            "f1=0.488\n",
            "max_features=945\n",
            "f1=0.484\n",
            "max_features=1260\n",
            "f1=0.493\n",
            "max_features=1575\n",
            "f1=0.491\n",
            "max_features=1890\n",
            "f1=0.485\n",
            "max_features=2205\n",
            "f1=0.483\n",
            "max_features=2520\n",
            "f1=0.483\n",
            "max_features=2835\n",
            "f1=0.478\n",
            "max_features=3150\n",
            "f1=0.475\n",
            "max_features=3465\n",
            "f1=0.473\n",
            "max_features=3780\n",
            "f1=0.478\n",
            "max_features=4095\n",
            "f1=0.476\n",
            "max_features=4410\n",
            "f1=0.475\n",
            "max_features=4725\n",
            "f1=0.472\n",
            "max_features=5040\n",
            "f1=0.473\n",
            "max_features=5355\n",
            "f1=0.471\n",
            "max_features=5670\n",
            "f1=0.473\n",
            "max_features=5985\n",
            "f1=0.474\n",
            "max_features=6300\n",
            "f1=0.477\n",
            "max_features=6615\n",
            "f1=0.477\n",
            "max_features=6930\n",
            "f1=0.477\n",
            "max_features=7245\n",
            "f1=0.473\n",
            "max_features=7560\n",
            "f1=0.473\n",
            "max_features=7875\n",
            "f1=0.473\n",
            "max_features=8190\n",
            "f1=0.472\n",
            "max_features=8505\n",
            "f1=0.470\n",
            "max_features=8820\n",
            "f1=0.467\n",
            "max_features=9135\n",
            "f1=0.469\n",
            "max_features=9450\n",
            "f1=0.467\n",
            "max_features=9765\n",
            "f1=0.469\n",
            "max_features=10080\n",
            "f1=0.473\n",
            "max_features=10395\n",
            "f1=0.473\n"
          ]
        }
      ]
    },
    {
      "cell_type": "markdown",
      "source": [
        "The majority of the F1-scores range are within the 4.6 and 4.7 range. A few of the scores though are in 4.8s and 4.9s. The values 630, 945, 1260, 1575, 1890, 2205, and 2520 yield the best F1-scores so we will use these in the final parameter grid."
      ],
      "metadata": {
        "id": "B6hdCJMR_3Gn"
      }
    },
    {
      "cell_type": "markdown",
      "source": [
        "Finally, our parameter of choice will be Logistic Regression solver."
      ],
      "metadata": {
        "id": "5FKYD9O39ibi"
      }
    },
    {
      "cell_type": "code",
      "source": [
        "# these are the solver options for multinomial logistic regression\n",
        "solvers = ['lbfgs', 'liblinear', 'newton-cg', 'sag', 'saga']\n",
        "\n",
        "# iterate through the solver options\n",
        "for val in solvers:\n",
        "  # define out vectorizer\n",
        "  vectorizer_lg_tfidf = TfidfVectorizer()\n",
        "  # fit to train\n",
        "  X_lg_tfidf = vectorizer_lg_tfidf.fit(train_tweets)\n",
        "  # transform both\n",
        "  vectorized_train_lg_tfidf = vectorizer_lg_tfidf.transform(train_tweets)\n",
        "  vectorized_valid_lg_tfidf = vectorizer_lg_tfidf.transform(valid_tweets)\n",
        "  # define out classifier, with solver set to current value\n",
        "  clf = LogisticRegression(solver=val).fit(vectorized_train_lg_tfidf, train_labels)\n",
        "  labels_predicted = clf.predict(vectorized_valid_lg_tfidf)\n",
        "\n",
        "  f1 = f1_score(valid_labels, labels_predicted, average='macro')\n",
        "  print(\"solver=\"+str(val))\n",
        "  print(f\"{f1=:.3f}\")"
      ],
      "metadata": {
        "colab": {
          "base_uri": "https://localhost:8080/"
        },
        "id": "4-_xLwmj9nTb",
        "outputId": "f1107e84-6272-4050-b6e1-889bcc6bf06d"
      },
      "execution_count": null,
      "outputs": [
        {
          "output_type": "stream",
          "name": "stdout",
          "text": [
            "solver=lbfgs\n",
            "f1=0.473\n",
            "solver=liblinear\n",
            "f1=0.437\n",
            "solver=newton-cg\n",
            "f1=0.473\n",
            "solver=sag\n",
            "f1=0.473\n",
            "solver=saga\n",
            "f1=0.471\n"
          ]
        }
      ]
    },
    {
      "cell_type": "markdown",
      "source": [
        "Every solver other than 'liblinear' works about as well as the others. Now let's run a parameter grid with all of our options."
      ],
      "metadata": {
        "id": "xLztTnkiCWAl"
      }
    },
    {
      "cell_type": "code",
      "source": [
        "from sklearn.model_selection import ParameterGrid\n",
        "from tqdm import tqdm\n",
        "\n",
        "# here is the parameter grid\n",
        "param_grid = {'C': [1,2], 'sublinear_tf': [True, False], \n",
        "              'max_features': [630,945,1260,1575,1890,2205,2520],\n",
        "              'solver':['lbfgs','newton-cg','sag','saga']}\n",
        "\n",
        "# there are a lot of options so we will only save top-5 F1-scores\n",
        "maxes = [[0,0],[0,0],[0,0],[0,0],[0,0]]\n",
        "# iterate though the paremeter sets in the parameter grid\n",
        "for params in tqdm(ParameterGrid(param_grid)):\n",
        "  # define our vectorizer with sublinear tf and max features set to values in current param. set\n",
        "  vectorizer_lg_tfidf = TfidfVectorizer(sublinear_tf=params['sublinear_tf'], max_features=params['max_features'])\n",
        "  # fit to train\n",
        "  X_lg_tfidf = vectorizer_lg_tfidf.fit(train_tweets)\n",
        "  # transform both\n",
        "  vectorized_train_lg_tfidf = vectorizer_lg_tfidf.transform(train_tweets)\n",
        "  vectorized_valid_lg_tfidf = vectorizer_lg_tfidf.transform(valid_tweets)\n",
        "  # define our classifier with C and solver set to values in current param. set\n",
        "  clf = LogisticRegression(C=(10**params['C']), solver=params['solver']).fit(vectorized_train_lg_tfidf, train_labels)\n",
        "  labels_predicted = clf.predict(vectorized_valid_lg_tfidf)\n",
        "\n",
        "  # save f1 score\n",
        "  f1 = f1_score(valid_labels, labels_predicted, average='macro')\n",
        "  # only keep the f1 score if one of the top 5 best\n",
        "  if f1 > maxes[4][1]:\n",
        "    maxes[4][1] = f1\n",
        "    maxes[4][0] = params\n",
        "  \n",
        "  # sort the maxes to make sure we continue having top 5 best\n",
        "  maxes = sorted(maxes, reverse=True, key=lambda x: x[1])\n",
        "  "
      ],
      "metadata": {
        "colab": {
          "base_uri": "https://localhost:8080/"
        },
        "id": "lOOaSEGCCfj3",
        "outputId": "6120a810-a997-4697-80f8-58e1a09de461"
      },
      "execution_count": null,
      "outputs": [
        {
          "output_type": "stream",
          "name": "stderr",
          "text": [
            "100%|██████████| 112/112 [01:21<00:00,  1.38it/s]\n"
          ]
        }
      ]
    },
    {
      "cell_type": "code",
      "source": [
        "maxes"
      ],
      "metadata": {
        "colab": {
          "base_uri": "https://localhost:8080/"
        },
        "id": "cOtMNl9EFJyt",
        "outputId": "427beb1d-f182-4e35-9790-eceffcd61ea2"
      },
      "execution_count": null,
      "outputs": [
        {
          "output_type": "execute_result",
          "data": {
            "text/plain": [
              "[[{'C': 1, 'max_features': 945, 'solver': 'lbfgs', 'sublinear_tf': True},\n",
              "  0.5172317039592175],\n",
              " [{'C': 1, 'max_features': 945, 'solver': 'lbfgs', 'sublinear_tf': False},\n",
              "  0.5169657658259035],\n",
              " [{'C': 1, 'max_features': 1260, 'solver': 'lbfgs', 'sublinear_tf': True},\n",
              "  0.5161177249359677],\n",
              " [{'C': 1, 'max_features': 2520, 'solver': 'lbfgs', 'sublinear_tf': True},\n",
              "  0.5160558147233408],\n",
              " [{'C': 1, 'max_features': 945, 'solver': 'newton-cg', 'sublinear_tf': False},\n",
              "  0.5160116171829892]]"
            ]
          },
          "metadata": {},
          "execution_count": 47
        }
      ]
    },
    {
      "cell_type": "markdown",
      "source": [
        "Our best result is C=10^1, max_features=945, solver='lbfgs', sublinear_tf='True with score an F1-score of .517."
      ],
      "metadata": {
        "id": "jEpb-WntHH_P"
      }
    },
    {
      "cell_type": "markdown",
      "source": [
        "Now let's look at all of scoring metrics on the LogisticRegression with these tuned parameters."
      ],
      "metadata": {
        "id": "hmv3Xxs-6OjN"
      }
    },
    {
      "cell_type": "code",
      "source": [
        "# define out final vectorizer\n",
        "vectorizer_lg_tfidf = TfidfVectorizer(sublinear_tf=True, max_features=945)\n",
        "# fit to train\n",
        "X_lg_tfidf = vectorizer_lg_tfidf.fit(train_tweets)\n",
        "# transform both\n",
        "vectorized_train_lg_tfidf = vectorizer_lg_tfidf.transform(train_tweets)\n",
        "vectorized_valid_lg_tfidf = vectorizer_lg_tfidf.transform(valid_tweets)\n",
        "# define the final classifier\n",
        "clf = LogisticRegression(C=(10**1), solver='lbfgs').fit(vectorized_train_lg_tfidf, train_labels)\n",
        "labels_predicted = clf.predict(vectorized_valid_lg_tfidf)"
      ],
      "metadata": {
        "id": "zaLi25KTHqfd"
      },
      "execution_count": null,
      "outputs": []
    },
    {
      "cell_type": "markdown",
      "source": [
        "And let's loo"
      ],
      "metadata": {
        "id": "1ZnbvKpu0GyC"
      }
    },
    {
      "cell_type": "code",
      "source": [
        "accuracy = accuracy_score(valid_labels, labels_predicted)\n",
        "print(f\"{accuracy=:.3f}\")\n",
        "\n",
        "precision = precision_score(valid_labels, labels_predicted, average='macro')\n",
        "print(f\"{precision=:.3f}\")\n",
        "\n",
        "recall = recall_score(valid_labels, labels_predicted, average='macro')\n",
        "print(f\"{recall=:.3f}\")\n",
        "\n",
        "f1 = f1_score(valid_labels, labels_predicted, average='macro')\n",
        "print(f\"{f1=:.3f}\")"
      ],
      "metadata": {
        "colab": {
          "base_uri": "https://localhost:8080/"
        },
        "id": "z5IpHEMk5L7Z",
        "outputId": "908f8fb9-78bf-4d54-cb1c-c8acc78b06b7"
      },
      "execution_count": null,
      "outputs": [
        {
          "output_type": "stream",
          "name": "stdout",
          "text": [
            "accuracy=0.754\n",
            "precision=0.599\n",
            "recall=0.475\n",
            "f1=0.517\n"
          ]
        }
      ]
    }
  ]
}