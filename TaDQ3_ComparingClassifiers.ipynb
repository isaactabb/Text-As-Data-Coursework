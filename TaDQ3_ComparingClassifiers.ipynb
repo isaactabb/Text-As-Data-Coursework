{
  "nbformat": 4,
  "nbformat_minor": 0,
  "metadata": {
    "colab": {
      "provenance": [],
      "toc_visible": true
    },
    "kernelspec": {
      "name": "python3",
      "display_name": "Python 3"
    },
    "language_info": {
      "name": "python"
    }
  },
  "cells": [
    {
      "cell_type": "markdown",
      "source": [
        "# Q3 Comparing Classifiers\n",
        "\n",
        "Isaac Tabb\n",
        "\n",
        "Text As Data\n",
        "\n",
        "06/02/2023"
      ],
      "metadata": {
        "id": "JgOWr0L2ByAR"
      }
    },
    {
      "cell_type": "markdown",
      "source": [
        "Step 0: Read in Training & Validation sets"
      ],
      "metadata": {
        "id": "5uRDJUVPCRJG"
      }
    },
    {
      "cell_type": "code",
      "execution_count": null,
      "metadata": {
        "colab": {
          "base_uri": "https://localhost:8080/",
          "height": 109
        },
        "id": "hb4ml0wF6tqk",
        "outputId": "b265070a-8efc-4d4d-8d90-f63697ba5c03"
      },
      "outputs": [
        {
          "output_type": "display_data",
          "data": {
            "text/plain": [
              "<IPython.core.display.HTML object>"
            ],
            "text/html": [
              "\n",
              "     <input type=\"file\" id=\"files-031ffd86-a327-471e-9c8c-79b71d851937\" name=\"files[]\" multiple disabled\n",
              "        style=\"border:none\" />\n",
              "     <output id=\"result-031ffd86-a327-471e-9c8c-79b71d851937\">\n",
              "      Upload widget is only available when the cell has been executed in the\n",
              "      current browser session. Please rerun this cell to enable.\n",
              "      </output>\n",
              "      <script>// Copyright 2017 Google LLC\n",
              "//\n",
              "// Licensed under the Apache License, Version 2.0 (the \"License\");\n",
              "// you may not use this file except in compliance with the License.\n",
              "// You may obtain a copy of the License at\n",
              "//\n",
              "//      http://www.apache.org/licenses/LICENSE-2.0\n",
              "//\n",
              "// Unless required by applicable law or agreed to in writing, software\n",
              "// distributed under the License is distributed on an \"AS IS\" BASIS,\n",
              "// WITHOUT WARRANTIES OR CONDITIONS OF ANY KIND, either express or implied.\n",
              "// See the License for the specific language governing permissions and\n",
              "// limitations under the License.\n",
              "\n",
              "/**\n",
              " * @fileoverview Helpers for google.colab Python module.\n",
              " */\n",
              "(function(scope) {\n",
              "function span(text, styleAttributes = {}) {\n",
              "  const element = document.createElement('span');\n",
              "  element.textContent = text;\n",
              "  for (const key of Object.keys(styleAttributes)) {\n",
              "    element.style[key] = styleAttributes[key];\n",
              "  }\n",
              "  return element;\n",
              "}\n",
              "\n",
              "// Max number of bytes which will be uploaded at a time.\n",
              "const MAX_PAYLOAD_SIZE = 100 * 1024;\n",
              "\n",
              "function _uploadFiles(inputId, outputId) {\n",
              "  const steps = uploadFilesStep(inputId, outputId);\n",
              "  const outputElement = document.getElementById(outputId);\n",
              "  // Cache steps on the outputElement to make it available for the next call\n",
              "  // to uploadFilesContinue from Python.\n",
              "  outputElement.steps = steps;\n",
              "\n",
              "  return _uploadFilesContinue(outputId);\n",
              "}\n",
              "\n",
              "// This is roughly an async generator (not supported in the browser yet),\n",
              "// where there are multiple asynchronous steps and the Python side is going\n",
              "// to poll for completion of each step.\n",
              "// This uses a Promise to block the python side on completion of each step,\n",
              "// then passes the result of the previous step as the input to the next step.\n",
              "function _uploadFilesContinue(outputId) {\n",
              "  const outputElement = document.getElementById(outputId);\n",
              "  const steps = outputElement.steps;\n",
              "\n",
              "  const next = steps.next(outputElement.lastPromiseValue);\n",
              "  return Promise.resolve(next.value.promise).then((value) => {\n",
              "    // Cache the last promise value to make it available to the next\n",
              "    // step of the generator.\n",
              "    outputElement.lastPromiseValue = value;\n",
              "    return next.value.response;\n",
              "  });\n",
              "}\n",
              "\n",
              "/**\n",
              " * Generator function which is called between each async step of the upload\n",
              " * process.\n",
              " * @param {string} inputId Element ID of the input file picker element.\n",
              " * @param {string} outputId Element ID of the output display.\n",
              " * @return {!Iterable<!Object>} Iterable of next steps.\n",
              " */\n",
              "function* uploadFilesStep(inputId, outputId) {\n",
              "  const inputElement = document.getElementById(inputId);\n",
              "  inputElement.disabled = false;\n",
              "\n",
              "  const outputElement = document.getElementById(outputId);\n",
              "  outputElement.innerHTML = '';\n",
              "\n",
              "  const pickedPromise = new Promise((resolve) => {\n",
              "    inputElement.addEventListener('change', (e) => {\n",
              "      resolve(e.target.files);\n",
              "    });\n",
              "  });\n",
              "\n",
              "  const cancel = document.createElement('button');\n",
              "  inputElement.parentElement.appendChild(cancel);\n",
              "  cancel.textContent = 'Cancel upload';\n",
              "  const cancelPromise = new Promise((resolve) => {\n",
              "    cancel.onclick = () => {\n",
              "      resolve(null);\n",
              "    };\n",
              "  });\n",
              "\n",
              "  // Wait for the user to pick the files.\n",
              "  const files = yield {\n",
              "    promise: Promise.race([pickedPromise, cancelPromise]),\n",
              "    response: {\n",
              "      action: 'starting',\n",
              "    }\n",
              "  };\n",
              "\n",
              "  cancel.remove();\n",
              "\n",
              "  // Disable the input element since further picks are not allowed.\n",
              "  inputElement.disabled = true;\n",
              "\n",
              "  if (!files) {\n",
              "    return {\n",
              "      response: {\n",
              "        action: 'complete',\n",
              "      }\n",
              "    };\n",
              "  }\n",
              "\n",
              "  for (const file of files) {\n",
              "    const li = document.createElement('li');\n",
              "    li.append(span(file.name, {fontWeight: 'bold'}));\n",
              "    li.append(span(\n",
              "        `(${file.type || 'n/a'}) - ${file.size} bytes, ` +\n",
              "        `last modified: ${\n",
              "            file.lastModifiedDate ? file.lastModifiedDate.toLocaleDateString() :\n",
              "                                    'n/a'} - `));\n",
              "    const percent = span('0% done');\n",
              "    li.appendChild(percent);\n",
              "\n",
              "    outputElement.appendChild(li);\n",
              "\n",
              "    const fileDataPromise = new Promise((resolve) => {\n",
              "      const reader = new FileReader();\n",
              "      reader.onload = (e) => {\n",
              "        resolve(e.target.result);\n",
              "      };\n",
              "      reader.readAsArrayBuffer(file);\n",
              "    });\n",
              "    // Wait for the data to be ready.\n",
              "    let fileData = yield {\n",
              "      promise: fileDataPromise,\n",
              "      response: {\n",
              "        action: 'continue',\n",
              "      }\n",
              "    };\n",
              "\n",
              "    // Use a chunked sending to avoid message size limits. See b/62115660.\n",
              "    let position = 0;\n",
              "    do {\n",
              "      const length = Math.min(fileData.byteLength - position, MAX_PAYLOAD_SIZE);\n",
              "      const chunk = new Uint8Array(fileData, position, length);\n",
              "      position += length;\n",
              "\n",
              "      const base64 = btoa(String.fromCharCode.apply(null, chunk));\n",
              "      yield {\n",
              "        response: {\n",
              "          action: 'append',\n",
              "          file: file.name,\n",
              "          data: base64,\n",
              "        },\n",
              "      };\n",
              "\n",
              "      let percentDone = fileData.byteLength === 0 ?\n",
              "          100 :\n",
              "          Math.round((position / fileData.byteLength) * 100);\n",
              "      percent.textContent = `${percentDone}% done`;\n",
              "\n",
              "    } while (position < fileData.byteLength);\n",
              "  }\n",
              "\n",
              "  // All done.\n",
              "  yield {\n",
              "    response: {\n",
              "      action: 'complete',\n",
              "    }\n",
              "  };\n",
              "}\n",
              "\n",
              "scope.google = scope.google || {};\n",
              "scope.google.colab = scope.google.colab || {};\n",
              "scope.google.colab._files = {\n",
              "  _uploadFiles,\n",
              "  _uploadFilesContinue,\n",
              "};\n",
              "})(self);\n",
              "</script> "
            ]
          },
          "metadata": {}
        },
        {
          "output_type": "stream",
          "name": "stdout",
          "text": [
            "Saving training_set.csv to training_set.csv\n",
            "Saving validation_set.csv to validation_set.csv\n"
          ]
        }
      ],
      "source": [
        "import pandas as pd\n",
        "from google.colab import files\n",
        "uploaded = files.upload()\n",
        "\n",
        "import io \n",
        "train_df = pd.read_csv(io.BytesIO(uploaded['training_set.csv']))\n",
        "valid_df = pd.read_csv(io.BytesIO(uploaded['validation_set.csv']))"
      ]
    },
    {
      "cell_type": "markdown",
      "source": [
        "Now let's make sure those dataframes make sense. "
      ],
      "metadata": {
        "id": "FPIMmnkTCbiQ"
      }
    },
    {
      "cell_type": "code",
      "source": [
        "# turn the dataframes into dictionaries\n",
        "train_dct = train_df.to_dict('records')\n",
        "valid_dct = valid_df.to_dict('records')\n",
        "\n",
        "# create two separate lists, the tweets and the labels for both training and validation\n",
        "train_tweets, train_labels = [], []\n",
        "for tweet in train_dct:\n",
        "  train_tweets.append(tweet['text'])\n",
        "  train_labels.append(tweet['team'])\n",
        "\n",
        "# do so for validation\n",
        "valid_tweets, valid_labels = [], []\n",
        "for tweet in valid_dct:\n",
        "  valid_tweets.append(tweet['text'])\n",
        "  valid_labels.append(tweet['team'])\n"
      ],
      "metadata": {
        "id": "4aUasKKEC0o_"
      },
      "execution_count": null,
      "outputs": []
    },
    {
      "cell_type": "markdown",
      "source": [
        "## Dummy Classifier: Most Frequent"
      ],
      "metadata": {
        "id": "p4qExlPEFTFr"
      }
    },
    {
      "cell_type": "markdown",
      "source": [
        "Let's create a dummy classifier which classifies all of the tweets as MiamiHeat."
      ],
      "metadata": {
        "id": "0KtekNWjFXRl"
      }
    },
    {
      "cell_type": "code",
      "source": [
        "from sklearn.feature_extraction.text import TfidfVectorizer\n",
        "from sklearn.dummy import DummyClassifier\n",
        "\n",
        "# create vectorizer most frequent\n",
        "vectorizer_mf = TfidfVectorizer()\n",
        "# fit to train\n",
        "X_mf = vectorizer_mf.fit(train_tweets)\n",
        "# transform both\n",
        "vectorized_train_mf = vectorizer_mf.transform(train_tweets)\n",
        "vectorized_valid_mf = vectorizer_mf.transform(valid_tweets)\n",
        "\n",
        "# create classifier with strategy most frequent\n",
        "clf = DummyClassifier(strategy=\"most_frequent\").fit(vectorized_train_mf, train_labels)\n",
        "labels_predicted = clf.predict(vectorized_valid_mf)"
      ],
      "metadata": {
        "id": "QG1dq0qRFWCg"
      },
      "execution_count": null,
      "outputs": []
    },
    {
      "cell_type": "markdown",
      "source": [
        "And let's see the scores!"
      ],
      "metadata": {
        "id": "ugbaFmLXH1le"
      }
    },
    {
      "cell_type": "code",
      "source": [
        "from sklearn.metrics import accuracy_score, precision_score, recall_score, f1_score\n",
        "\n",
        "accuracy = accuracy_score(valid_labels, labels_predicted)\n",
        "print(f\"{accuracy=:.3f}\")\n",
        "\n",
        "precision = precision_score(valid_labels, labels_predicted, average='macro')\n",
        "print(f\"{precision=:.3f}\")\n",
        "\n",
        "recall = recall_score(valid_labels, labels_predicted, average='macro')\n",
        "print(f\"{recall=:.3f}\")\n",
        "\n",
        "f1 = f1_score(valid_labels, labels_predicted, average='macro')\n",
        "print(f\"{f1=:.3f}\")"
      ],
      "metadata": {
        "id": "GqMS9T6qH3vV",
        "colab": {
          "base_uri": "https://localhost:8080/"
        },
        "outputId": "2a63a1aa-4a79-43db-e504-93bda2b0d5e8"
      },
      "execution_count": null,
      "outputs": [
        {
          "output_type": "stream",
          "name": "stdout",
          "text": [
            "accuracy=0.723\n",
            "precision=0.181\n",
            "recall=0.250\n",
            "f1=0.210\n"
          ]
        },
        {
          "output_type": "stream",
          "name": "stderr",
          "text": [
            "/usr/local/lib/python3.8/dist-packages/sklearn/metrics/_classification.py:1344: UndefinedMetricWarning: Precision is ill-defined and being set to 0.0 in labels with no predicted samples. Use `zero_division` parameter to control this behavior.\n",
            "  _warn_prf(average, modifier, msg_start, len(result))\n"
          ]
        }
      ]
    },
    {
      "cell_type": "markdown",
      "source": [
        "## Dummy Classifier: Stratified"
      ],
      "metadata": {
        "id": "vfK8WeOVI5Gm"
      }
    },
    {
      "cell_type": "markdown",
      "source": [
        "Let's create the dummy classifier which uses the stratified method."
      ],
      "metadata": {
        "id": "QGk1ISnVI8lw"
      }
    },
    {
      "cell_type": "code",
      "source": [
        "# create vectorizer for stratified\n",
        "vectorizer_strat = TfidfVectorizer()\n",
        "# fit to train\n",
        "X_strat = vectorizer_strat.fit(train_tweets)\n",
        "# transform both\n",
        "vectorized_train_strat = vectorizer_strat.transform(train_tweets)\n",
        "vectorized_valid_strat = vectorizer_strat.transform(valid_tweets)\n",
        "\n",
        "# new classifier with strategy stratified\n",
        "clf = DummyClassifier(strategy=\"stratified\").fit(vectorized_train_strat, train_labels)\n",
        "labels_predicted = clf.predict(vectorized_valid_strat)"
      ],
      "metadata": {
        "id": "hp_1dQeKI7rC"
      },
      "execution_count": null,
      "outputs": []
    },
    {
      "cell_type": "markdown",
      "source": [
        "And the scores?"
      ],
      "metadata": {
        "id": "tqJQ2gx4JGKf"
      }
    },
    {
      "cell_type": "code",
      "source": [
        "accuracy = accuracy_score(valid_labels, labels_predicted)\n",
        "print(f\"{accuracy=:.3f}\")\n",
        "\n",
        "precision = precision_score(valid_labels, labels_predicted, average='macro')\n",
        "print(f\"{precision=:.3f}\")\n",
        "\n",
        "recall = recall_score(valid_labels, labels_predicted, average='macro')\n",
        "print(f\"{recall=:.3f}\")\n",
        "\n",
        "f1 = f1_score(valid_labels, labels_predicted, average='macro')\n",
        "print(f\"{f1=:.3f}\")"
      ],
      "metadata": {
        "id": "foEvDyprJH-B",
        "colab": {
          "base_uri": "https://localhost:8080/"
        },
        "outputId": "173dc6ce-781b-4e59-b339-6106eac7e770"
      },
      "execution_count": null,
      "outputs": [
        {
          "output_type": "stream",
          "name": "stdout",
          "text": [
            "accuracy=0.562\n",
            "precision=0.261\n",
            "recall=0.260\n",
            "f1=0.260\n"
          ]
        }
      ]
    },
    {
      "cell_type": "markdown",
      "source": [
        "## LogisticRegression: One-Hot"
      ],
      "metadata": {
        "id": "YrJlzgeRbuPT"
      }
    },
    {
      "cell_type": "markdown",
      "source": [
        "First, let's perform one-hot vectorization."
      ],
      "metadata": {
        "id": "ekZZ9XkPAeQB"
      }
    },
    {
      "cell_type": "code",
      "source": [
        "# use the binary=True, use_idf=False, and norm=None to turn vectorization into one hot\n",
        "vectorizer_lg_onehot = TfidfVectorizer(binary=True, use_idf=False, norm=None)\n",
        "# fit to the training set\n",
        "X_lg_onehot = vectorizer_lg_onehot.fit(train_tweets)\n",
        "# transform on traning and validation\n",
        "vectorized_train_lg_onehot = vectorizer_lg_onehot.transform(train_tweets)\n",
        "vectorized_valid_lg_onehot = vectorizer_lg_onehot.transform(valid_tweets)"
      ],
      "metadata": {
        "id": "kC3DTHa112J_"
      },
      "execution_count": null,
      "outputs": []
    },
    {
      "cell_type": "markdown",
      "source": [
        "Let's create the classifier."
      ],
      "metadata": {
        "id": "uqT1x9y5cF0p"
      }
    },
    {
      "cell_type": "code",
      "source": [
        "from sklearn.linear_model import LogisticRegression\n",
        "\n",
        "# define the logistic regression classifier\n",
        "# Note: I had to increase the max_iter value for the LogisticRegression model to run.\n",
        "clf = LogisticRegression(max_iter=140).fit(vectorized_train_lg_onehot, train_labels)\n",
        "labels_predicted = clf.predict(vectorized_valid_lg_onehot)"
      ],
      "metadata": {
        "id": "wluYk8M2cE4s"
      },
      "execution_count": null,
      "outputs": []
    },
    {
      "cell_type": "markdown",
      "source": [
        "And the scores."
      ],
      "metadata": {
        "id": "xf-p2HaYhwY9"
      }
    },
    {
      "cell_type": "code",
      "source": [
        "accuracy = accuracy_score(valid_labels, labels_predicted)\n",
        "print(f\"{accuracy=:.3f}\")\n",
        "\n",
        "precision = precision_score(valid_labels, labels_predicted, average='macro')\n",
        "print(f\"{precision=:.3f}\")\n",
        "\n",
        "recall = recall_score(valid_labels, labels_predicted, average='macro')\n",
        "print(f\"{recall=:.3f}\")\n",
        "\n",
        "f1 = f1_score(valid_labels, labels_predicted, average='macro')\n",
        "print(f\"{f1=:.3f}\")"
      ],
      "metadata": {
        "colab": {
          "base_uri": "https://localhost:8080/"
        },
        "id": "zM-j2da8hwHM",
        "outputId": "ae6bcf14-9fc5-4f5b-b7f5-719ddc67a3fa"
      },
      "execution_count": null,
      "outputs": [
        {
          "output_type": "stream",
          "name": "stdout",
          "text": [
            "accuracy=0.756\n",
            "precision=0.602\n",
            "recall=0.457\n",
            "f1=0.501\n"
          ]
        }
      ]
    },
    {
      "cell_type": "markdown",
      "source": [
        "## Logistic Regression: TFIDF\n",
        "\n"
      ],
      "metadata": {
        "id": "OT-NJ1rCjFXm"
      }
    },
    {
      "cell_type": "markdown",
      "source": [
        "Now, let's vectorize for logistic regression with TFIDF."
      ],
      "metadata": {
        "id": "L885FDwhjlKR"
      }
    },
    {
      "cell_type": "code",
      "source": [
        "# create base tfidf vectorizer\n",
        "vectorizer_lg_tfidf = TfidfVectorizer()\n",
        "# fit to train\n",
        "X_lg_tfidf = vectorizer_lg_tfidf.fit(train_tweets)\n",
        "# transform both\n",
        "vectorized_train_lg_tfidf = vectorizer_lg_tfidf.transform(train_tweets)\n",
        "vectorized_valid_lg_tfidf = vectorizer_lg_tfidf.transform(valid_tweets)"
      ],
      "metadata": {
        "id": "3QaXYmCrjH6f"
      },
      "execution_count": null,
      "outputs": []
    },
    {
      "cell_type": "markdown",
      "source": [
        "Let's create the classifier."
      ],
      "metadata": {
        "id": "PcQaIdMXjnrN"
      }
    },
    {
      "cell_type": "code",
      "source": [
        "from sklearn.linear_model import LogisticRegression\n",
        "\n",
        "# define the logistic regression classifier\n",
        "clf = LogisticRegression().fit(vectorized_train_lg_tfidf, train_labels)\n",
        "labels_predicted = clf.predict(vectorized_valid_lg_tfidf)"
      ],
      "metadata": {
        "id": "4YZZZkrVjpn6"
      },
      "execution_count": null,
      "outputs": []
    },
    {
      "cell_type": "markdown",
      "source": [
        "And the scores!"
      ],
      "metadata": {
        "id": "ztjw_MpajwEi"
      }
    },
    {
      "cell_type": "code",
      "source": [
        "accuracy = accuracy_score(valid_labels, labels_predicted)\n",
        "print(f\"{accuracy=:.3f}\")\n",
        "\n",
        "precision = precision_score(valid_labels, labels_predicted, average='macro')\n",
        "print(f\"{precision=:.3f}\")\n",
        "\n",
        "recall = recall_score(valid_labels, labels_predicted, average='macro')\n",
        "print(f\"{recall=:.3f}\")\n",
        "\n",
        "f1 = f1_score(valid_labels, labels_predicted, average='macro')\n",
        "print(f\"{f1=:.3f}\")"
      ],
      "metadata": {
        "colab": {
          "base_uri": "https://localhost:8080/"
        },
        "id": "tYHUJHaijxMX",
        "outputId": "33f97df5-155c-4492-e53e-07cd0d5418c7"
      },
      "execution_count": null,
      "outputs": [
        {
          "output_type": "stream",
          "name": "stdout",
          "text": [
            "accuracy=0.760\n",
            "precision=0.662\n",
            "recall=0.419\n",
            "f1=0.473\n"
          ]
        }
      ]
    },
    {
      "cell_type": "markdown",
      "source": [
        "## SVC Classifier: One Hot\n"
      ],
      "metadata": {
        "id": "-oFa8V3YG_L2"
      }
    },
    {
      "cell_type": "markdown",
      "source": [
        "First, let's perform one-hot vectorization."
      ],
      "metadata": {
        "id": "A4pITb2uHSXA"
      }
    },
    {
      "cell_type": "code",
      "source": [
        "# use the binary=True, use_idf=False, and norm=None to turn vectorization into one hot\n",
        "vectorizer_svc_onehot = TfidfVectorizer(binary=True, use_idf=False, norm=None)\n",
        "# fit to the training set\n",
        "X_svc_onehot = vectorizer_svc_onehot.fit(train_tweets)\n",
        "# transform on traning and validation\n",
        "vectorized_train_svc_onehot = vectorizer_svc_onehot.transform(train_tweets)\n",
        "vectorized_valid_svc_onehot = vectorizer_svc_onehot.transform(valid_tweets)"
      ],
      "metadata": {
        "id": "GI0zr8cfHVTE"
      },
      "execution_count": null,
      "outputs": []
    },
    {
      "cell_type": "markdown",
      "source": [
        "Now, let's use the SVC classifier."
      ],
      "metadata": {
        "id": "bmG5U5lJHWdd"
      }
    },
    {
      "cell_type": "code",
      "source": [
        "from sklearn.svm import SVC\n",
        "\n",
        "# define the SVC classifier\n",
        "clf = SVC().fit(vectorized_train_svc_onehot, train_labels)\n",
        "labels_predicted = clf.predict(vectorized_valid_svc_onehot)"
      ],
      "metadata": {
        "id": "NSJvfk-sHF4J"
      },
      "execution_count": null,
      "outputs": []
    },
    {
      "cell_type": "markdown",
      "source": [
        "And the scores!"
      ],
      "metadata": {
        "id": "0il-3cVZHxN-"
      }
    },
    {
      "cell_type": "code",
      "source": [
        "accuracy = accuracy_score(valid_labels, labels_predicted)\n",
        "print(f\"{accuracy=:.3f}\")\n",
        "\n",
        "precision = precision_score(valid_labels, labels_predicted, average='macro')\n",
        "print(f\"{precision=:.3f}\")\n",
        "\n",
        "recall = recall_score(valid_labels, labels_predicted, average='macro')\n",
        "print(f\"{recall=:.3f}\")\n",
        "\n",
        "f1 = f1_score(valid_labels, labels_predicted, average='macro')\n",
        "print(f\"{f1=:.3f}\")"
      ],
      "metadata": {
        "id": "8bdARfr4Hy4Y",
        "outputId": "4ff8ff39-afd8-4973-e3ef-790b65dde90a",
        "colab": {
          "base_uri": "https://localhost:8080/"
        }
      },
      "execution_count": null,
      "outputs": [
        {
          "output_type": "stream",
          "name": "stdout",
          "text": [
            "accuracy=0.750\n",
            "precision=0.623\n",
            "recall=0.388\n",
            "f1=0.433\n"
          ]
        }
      ]
    },
    {
      "cell_type": "markdown",
      "source": [
        "## Best Performing Classifier by Class\n",
        "#### (Logistic Regression using One Hot Vectorization)"
      ],
      "metadata": {
        "id": "GS_ZQXmkBYyM"
      }
    },
    {
      "cell_type": "markdown",
      "source": [
        "Let's create the vectorizer again along with the classifier."
      ],
      "metadata": {
        "id": "ZLC0X9BY1MtO"
      }
    },
    {
      "cell_type": "code",
      "source": [
        "# use the binary=True, use_idf=False, and norm=None to turn vectorization into one hot\n",
        "vectorizer_lg_onehot = TfidfVectorizer(binary=True, use_idf=False, norm=None)\n",
        "# fit to the training set\n",
        "X_lg_onehot = vectorizer_lg_onehot.fit(train_tweets)\n",
        "# transform on traning and validation\n",
        "vectorized_train_lg_onehot = vectorizer_lg_onehot.transform(train_tweets)\n",
        "vectorized_valid_lg_onehot = vectorizer_lg_onehot.transform(valid_tweets)"
      ],
      "metadata": {
        "id": "cgF93gwTlE2I"
      },
      "execution_count": null,
      "outputs": []
    },
    {
      "cell_type": "code",
      "source": [
        "from sklearn.linear_model import LogisticRegression\n",
        "\n",
        "# create the classifier again\n",
        "# Note: I had to increase the max_iter value for the LogisticRegression model to run.\n",
        "clf = LogisticRegression().fit(vectorized_train_lg_onehot, train_labels)\n",
        "labels_predicted = clf.predict(vectorized_valid_lg_onehot)"
      ],
      "metadata": {
        "id": "mFoM1XTUlIPK",
        "colab": {
          "base_uri": "https://localhost:8080/"
        },
        "outputId": "a1acc980-85ad-443e-cbf7-1dd829912188"
      },
      "execution_count": null,
      "outputs": [
        {
          "output_type": "stream",
          "name": "stderr",
          "text": [
            "/usr/local/lib/python3.8/dist-packages/sklearn/linear_model/_logistic.py:458: ConvergenceWarning: lbfgs failed to converge (status=1):\n",
            "STOP: TOTAL NO. of ITERATIONS REACHED LIMIT.\n",
            "\n",
            "Increase the number of iterations (max_iter) or scale the data as shown in:\n",
            "    https://scikit-learn.org/stable/modules/preprocessing.html\n",
            "Please also refer to the documentation for alternative solver options:\n",
            "    https://scikit-learn.org/stable/modules/linear_model.html#logistic-regression\n",
            "  n_iter_i = _check_optimize_result(\n"
          ]
        }
      ]
    },
    {
      "cell_type": "markdown",
      "source": [
        "Let's print the F1-score by label."
      ],
      "metadata": {
        "id": "pYL-5mX1CQGP"
      }
    },
    {
      "cell_type": "code",
      "source": [
        "import matplotlib.pyplot as plt\n",
        "teams = [\"MiamiHeat\", \"BostonCeltics\", \"DenverNuggets\", \"LosAngelesLakers\"]\n",
        "f1_scores = []\n",
        "\n",
        "# iterate through the teams, calculating the f1_scores for each team\n",
        "for team in teams:\n",
        "  f1 = f1_score(valid_labels, labels_predicted, average='macro', labels=[team])\n",
        "  f1_scores.append(f1)\n",
        "  print(team + \": \"f\"{f1=:.3f}\")\n",
        "\n",
        "# create the bar plot with the f1_scores for each team\n",
        "fig = plt.figure()\n",
        "axis = fig.add_axes([0,0,1,1])\n",
        "axis.bar(teams[0], f1_scores[0], color='r')\n",
        "axis.bar(teams[1], f1_scores[1], color='g')\n",
        "axis.bar(teams[2], f1_scores[2], color='b')\n",
        "axis.bar(teams[3], f1_scores[3], color='y')\n",
        "plt.ylabel(\"F1 Score\")\n",
        "plt.xlabel(\"Team / Label\")\n",
        "plt.title(\"Logistic Regression (using One-Hot Vectorization) by Class\")\n",
        "plt.show()"
      ],
      "metadata": {
        "colab": {
          "base_uri": "https://localhost:8080/",
          "height": 437
        },
        "id": "MmhkQrnrBjhx",
        "outputId": "19bcafe2-6165-4d1e-8878-c48cf6b7c952"
      },
      "execution_count": null,
      "outputs": [
        {
          "output_type": "stream",
          "name": "stdout",
          "text": [
            "MiamiHeat: f1=0.860\n",
            "BostonCeltics: f1=0.324\n",
            "DenverNuggets: f1=0.527\n",
            "LosAngelesLakers: f1=0.295\n"
          ]
        },
        {
          "output_type": "display_data",
          "data": {
            "text/plain": [
              "<Figure size 432x288 with 1 Axes>"
            ],
            "image/png": "[encoded data removed]"
          },
          "metadata": {
            "needs_background": "light"
          }
        }
      ]
    },
    {
      "cell_type": "markdown",
      "source": [
        "### Comparing Classifiers: Part B"
      ],
      "metadata": {
        "id": "XanwxDkQb0rV"
      }
    },
    {
      "cell_type": "markdown",
      "source": [
        "Since one-hot vectorization appeared to outperform TFIDF vectorization, we will use O-H as our vectorization approach."
      ],
      "metadata": {
        "id": "3KWUnd4wchTk"
      }
    },
    {
      "cell_type": "markdown",
      "source": [
        "For our classifier, we will choose one that works well on high-dimensional datasets."
      ],
      "metadata": {
        "id": "6QIgrIp_cvB9"
      }
    },
    {
      "cell_type": "markdown",
      "source": [
        "The option that I chose was a Decision Tree. With tuning to the min_samples_leaf parameter, the Decision Tree classifier should be able to handle the high-dimensionality. To avoid overfitting, we will run through possible values for the min_samples_leaf parameter. We will use the one that produces the best f1-score."
      ],
      "metadata": {
        "id": "grUn-_wDed-8"
      }
    },
    {
      "cell_type": "code",
      "source": [
        "from sklearn.tree import DecisionTreeClassifier\n",
        "\n",
        "min_samples = [1,2,3,4,5,6,7,8,9,10]\n",
        "\n",
        "max = 0\n",
        "# iterate through possibilities for min_samples parameter\n",
        "for val in min_samples:\n",
        "  # use the binary=True, use_idf=False, and norm=None to turn vectorization into one hot\n",
        "  vectorizer_nb = TfidfVectorizer(binary=True, use_idf=False, norm=None)\n",
        "  # fit to the training set\n",
        "  X_nb = vectorizer_nb.fit(train_tweets)\n",
        "  # transform on traning and validation\n",
        "  vectorized_train_nb = vectorizer_nb.transform(train_tweets)\n",
        "  vectorized_valid_nb = vectorizer_nb.transform(valid_tweets)\n",
        "\n",
        "  # run classifer with min_samples value\n",
        "  clf = DecisionTreeClassifier(min_samples_leaf=val).fit(vectorized_train_nb, train_labels)\n",
        "  labels_predicted = clf.predict(vectorized_valid_nb)\n",
        "  # calculate f1_score\n",
        "  f1 = f1_score(valid_labels, labels_predicted, average='macro')\n",
        "\n",
        "  # save max value for f1 corresponding min_samples\n",
        "  if max < f1:\n",
        "    max = f1\n",
        "    max_val = val\n"
      ],
      "metadata": {
        "id": "oiMHWkwpgSsJ"
      },
      "execution_count": null,
      "outputs": []
    },
    {
      "cell_type": "markdown",
      "source": [
        "And our best value is:"
      ],
      "metadata": {
        "id": "UuZ3bYZ5sq51"
      }
    },
    {
      "cell_type": "code",
      "source": [
        "print(\"Best min_samples_leaf: \" + str(max_val) + \", f1=\" + str(round(max,4)))"
      ],
      "metadata": {
        "colab": {
          "base_uri": "https://localhost:8080/"
        },
        "id": "RIrsowW1stVc",
        "outputId": "8131af97-b0d2-4385-f90b-d8ba7f5f5321"
      },
      "execution_count": null,
      "outputs": [
        {
          "output_type": "stream",
          "name": "stdout",
          "text": [
            "Best min_samples_leaf: 5, f1=0.5295\n"
          ]
        }
      ]
    },
    {
      "cell_type": "markdown",
      "source": [
        "So, for our classifier we will use the min_samples_leaf value 5."
      ],
      "metadata": {
        "id": "1RWZ7LQ9tDpS"
      }
    },
    {
      "cell_type": "code",
      "source": [
        "# use the binary=True, use_idf=False, and norm=None to turn vectorization into one hot\n",
        "vectorizer_nb = TfidfVectorizer(binary=True, use_idf=False, norm=None)\n",
        "# fit to the training set\n",
        "X_nb = vectorizer_nb.fit(train_tweets)\n",
        "# transform on traning and validation\n",
        "vectorized_train_nb = vectorizer_nb.transform(train_tweets)\n",
        "vectorized_valid_nb = vectorizer_nb.transform(valid_tweets)\n",
        "\n",
        "# run classifer with min_samples\n",
        "clf = DecisionTreeClassifier(min_samples_leaf=5).fit(vectorized_train_nb, train_labels)\n",
        "labels_predicted = clf.predict(vectorized_valid_nb)\n",
        "f1 = f1_score(valid_labels, labels_predicted, average='macro')"
      ],
      "metadata": {
        "id": "-B_xx6cgtIQh"
      },
      "execution_count": null,
      "outputs": []
    },
    {
      "cell_type": "markdown",
      "source": [
        "And the scores."
      ],
      "metadata": {
        "id": "K3KwmfBBfMQW"
      }
    },
    {
      "cell_type": "code",
      "source": [
        "accuracy = accuracy_score(valid_labels, labels_predicted)\n",
        "print(f\"{accuracy=:.3f}\")\n",
        "\n",
        "precision = precision_score(valid_labels, labels_predicted, average='macro')\n",
        "print(f\"{precision=:.3f}\")\n",
        "\n",
        "recall = recall_score(valid_labels, labels_predicted, average='macro')\n",
        "print(f\"{recall=:.3f}\")\n",
        "\n",
        "f1 = f1_score(valid_labels, labels_predicted, average='macro')\n",
        "print(f\"{f1=:.3f}\")"
      ],
      "metadata": {
        "colab": {
          "base_uri": "https://localhost:8080/"
        },
        "id": "hZP2Jr6gfNNz",
        "outputId": "eab18bc5-89fa-41d9-95b1-7c0c58073631"
      },
      "execution_count": null,
      "outputs": [
        {
          "output_type": "stream",
          "name": "stdout",
          "text": [
            "accuracy=0.755\n",
            "precision=0.608\n",
            "recall=0.512\n",
            "f1=0.549\n"
          ]
        }
      ]
    },
    {
      "cell_type": "markdown",
      "source": [
        "And the F1-scores split by class."
      ],
      "metadata": {
        "id": "A27lh0y1hf98"
      }
    },
    {
      "cell_type": "code",
      "source": [
        "f1_scores = []\n",
        "\n",
        "# iterate through each team saving their f1 score\n",
        "for team in teams:\n",
        "  f1 = f1_score(valid_labels, labels_predicted, average='macro', labels=[team])\n",
        "  f1_scores.append(f1)\n",
        "  print(team + \": \"f\"{f1=:.3f}\")\n",
        "\n",
        "# plot the f1 scores by team\n",
        "fig = plt.figure()\n",
        "axis = fig.add_axes([0,0,1,1])\n",
        "axis.bar(teams[0], f1_scores[0], color='r')\n",
        "axis.bar(teams[1], f1_scores[1], color='g')\n",
        "axis.bar(teams[2], f1_scores[2], color='b')\n",
        "axis.bar(teams[3], f1_scores[3], color='y')\n",
        "plt.ylabel(\"F1 Score\")\n",
        "plt.xlabel(\"Team / Label\")\n",
        "plt.title(\"Decision Tree (using One-Hot Vectorization) by Class\")\n",
        "plt.show()"
      ],
      "metadata": {
        "colab": {
          "base_uri": "https://localhost:8080/",
          "height": 437
        },
        "id": "qCU9qi3vhe35",
        "outputId": "b4a1ee88-bad5-4a95-f75d-7cb99458cf9c"
      },
      "execution_count": null,
      "outputs": [
        {
          "output_type": "stream",
          "name": "stdout",
          "text": [
            "MiamiHeat: f1=0.854\n",
            "BostonCeltics: f1=0.436\n",
            "DenverNuggets: f1=0.538\n",
            "LosAngelesLakers: f1=0.368\n"
          ]
        },
        {
          "output_type": "display_data",
          "data": {
            "text/plain": [
              "<Figure size 432x288 with 1 Axes>"
            ],
            "image/png": "[encoded data removed]"
          },
          "metadata": {
            "needs_background": "light"
          }
        }
      ]
    }
  ]
}